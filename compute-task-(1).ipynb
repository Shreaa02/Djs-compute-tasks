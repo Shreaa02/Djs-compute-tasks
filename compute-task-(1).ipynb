{
 "cells": [
  {
   "cell_type": "code",
   "execution_count": 1,
   "id": "05f40acd-1e69-4f79-96bd-5f980cd85254",
   "metadata": {},
   "outputs": [
    {
     "name": "stdout",
     "output_type": "stream",
     "text": [
      "Orion Barracuda\n",
      "Orion Amethyst\n",
      "Orion Blade\n",
      "Orion Wasp\n",
      "Orion Nemesis\n",
      "Orion Fury\n",
      "Orion Cobra\n",
      "Orion Tempest\n",
      "Orion Leo\n",
      "Orion Scythe\n",
      "Barracuda Amethyst\n",
      "Barracuda Blade\n",
      "Barracuda Wasp\n",
      "Barracuda Nemesis\n",
      "Barracuda Fury\n",
      "Barracuda Cobra\n",
      "Barracuda Tempest\n",
      "Barracuda Leo\n",
      "Barracuda Scythe\n",
      "Amethyst Blade\n",
      "Amethyst Wasp\n",
      "Amethyst Nemesis\n",
      "Amethyst Fury\n",
      "Amethyst Cobra\n",
      "Amethyst Tempest\n",
      "Amethyst Leo\n",
      "Amethyst Scythe\n",
      "Blade Wasp\n",
      "Blade Nemesis\n",
      "Blade Fury\n",
      "Blade Cobra\n",
      "Blade Tempest\n",
      "Blade Leo\n",
      "Blade Scythe\n",
      "Wasp Nemesis\n",
      "Wasp Fury\n",
      "Wasp Cobra\n",
      "Wasp Tempest\n",
      "Wasp Leo\n",
      "Wasp Scythe\n",
      "Nemesis Fury\n",
      "Nemesis Cobra\n",
      "Nemesis Tempest\n",
      "Nemesis Leo\n",
      "Nemesis Scythe\n",
      "Fury Cobra\n",
      "Fury Tempest\n",
      "Fury Leo\n",
      "Fury Scythe\n",
      "Cobra Tempest\n",
      "Cobra Leo\n",
      "Cobra Scythe\n",
      "Tempest Leo\n",
      "Tempest Scythe\n",
      "Leo Scythe\n"
     ]
    }
   ],
   "source": [
    "code_names = [\"Orion\", \"Barracuda\", \"Amethyst\", \"Blade\", \"Wasp\", \"Nemesis\", \"Fury\", \"Cobra\", \"Tempest\", \"Leo\", \"Scythe\"]\n",
    "\n",
    "def codename_generator(cn):\n",
    "    a = \"\"\n",
    "    b =\"\"\n",
    "    names = []\n",
    "    for i in range(len(cn)):\n",
    "        a = code_names[i]\n",
    "        for j in range(len(cn)):\n",
    "            n = []\n",
    "            b = cn[j]\n",
    "            x = a\n",
    "            y = b\n",
    "            l = ( a+\" \"+b)\n",
    "            k= (b+\" \"+a)\n",
    "            if a!= b and k not in names :\n",
    "                 names.append(l)\n",
    "                 print(l)\n",
    "\n",
    "codename_generator(code_names )"
   ]
  },
  {
   "cell_type": "code",
   "execution_count": 58,
   "id": "8a44c36b-3356-43ab-8770-4d168ba7c66e",
   "metadata": {},
   "outputs": [
    {
     "name": "stdout",
     "output_type": "stream",
     "text": [
      "Humans = ['amelia', 'emma', 'daisy', ' demelza ', 'lisa ']\n",
      "Aliens = ['gunther', 'karzan', 'pip1do', 'jarzk', 'p0ppy', 'garzon ', 'marz4']\n"
     ]
    }
   ],
   "source": [
    "\n",
    "register = [\"Gunther\", \"karzan\", \"pip1do\", \"amelia\", \"emma\", \"jarzk\", \"P0ppy\", \"gunther\", \"Daisy\",\" Demelza \", \"Lisa \", \"garzon \", \"marz4\"]\n",
    "Humans = []\n",
    "Aliens = []\n",
    "# digits = [0,1,2,3,4,5,6,7,8,9]\n",
    "def sort_humans(r):\n",
    "    for k in register:\n",
    "        i = k.lower()\n",
    "        flag = 0\n",
    "        for j in i:\n",
    "            if j.isdigit():\n",
    "                flag +=1 \n",
    "        if i[0] == 'g' or 'arz' in i or flag !=0  :\n",
    "            if i not in Aliens:\n",
    "                Aliens.append(i)           \n",
    "        else:\n",
    "             Humans.append(i)\n",
    "    print(f\"Humans = {Humans}\")\n",
    "    print(f\"Aliens = {Aliens}\")\n",
    "\n",
    "sort_humans(register)"
   ]
  },
  {
   "cell_type": "code",
   "execution_count": 2,
   "id": "173ad35c-1f8f-4ed5-9570-490cfad3b26f",
   "metadata": {},
   "outputs": [
    {
     "name": "stdout",
     "output_type": "stream",
     "text": [
      "{'gunther': 25, 'karzan': 50, 'pip1do': 100, 'jarzk': 50, 'p0ppy': 100, 'garzon': 75, 'marz4': 100}\n"
     ]
    }
   ],
   "source": [
    "Aliens = ['gunther', 'karzan', 'pip1do', 'jarzk', 'p0ppy', 'garzon', 'marz4']\n",
    "alien_probabilty ={}\n",
    "for i in Aliens:\n",
    "    #  if i.isalnum():\n",
    "    #  else:\n",
    "    if i.isalpha():\n",
    "       if i[0] =='g' and 'arz' in i :\n",
    "         alien_probabilty[i]=75\n",
    "       elif 'arz' in i :\n",
    "          alien_probabilty[i]=50\n",
    "       elif i[0] == 'g':\n",
    "           alien_probabilty[i]=25\n",
    "    else:\n",
    "         for j in i:\n",
    "            if j.isdigit():\n",
    "                alien_probabilty[i]=100\n",
    "\n",
    "     \n",
    "        \n",
    "print( alien_probabilty)"
   ]
  },
  {
   "cell_type": "code",
   "execution_count": 5,
   "id": "679be012-c38c-4a7b-b281-2141fbbe9db3",
   "metadata": {},
   "outputs": [
    {
     "name": "stdout",
     "output_type": "stream",
     "text": [
      "Meet Up Districts:{'IV', 'V', 'VI', 'III'}\n"
     ]
    }
   ],
   "source": [
    "your_districts = ['I', 'IV', 'V', 'I', 'VI', 'IX', 'X', 'II', 'III', 'I']\n",
    "their_districts = ['V', 'IV', 'VI', 'XII', 'VII', 'IV', 'VI', 'VIII', 'III']\n",
    "\n",
    "def common_districts(your_districts,their_districts):\n",
    "    yd = set(your_districts)\n",
    "    td = set(their_districts)\n",
    "    meet = yd.intersection(td)\n",
    "    print(f\"Meet Up Districts:{meet}\")\n",
    "\n",
    "common_districts(your_districts,their_districts)"
   ]
  },
  {
   "cell_type": "code",
   "execution_count": 11,
   "id": "e0d402c1-4772-4216-a9a6-9c186ad7af06",
   "metadata": {},
   "outputs": [
    {
     "name": "stdout",
     "output_type": "stream",
     "text": [
      " New Meet Up Districts: {'V', 'III'}\n"
     ]
    }
   ],
   "source": [
    "patrolled_districts = ['I', 'II', 'XII', 'IX', 'XI', 'IV', 'II', 'VI']\n",
    "pd =  set(patrolled_districts)\n",
    "npd = meet.difference(pd)\n",
    "print(f\" New Meet Up Districts: {npd}\")"
   ]
  },
  {
   "cell_type": "code",
   "execution_count": 56,
   "id": "259d07dd-847a-404e-af7d-f9e2b1466ad0",
   "metadata": {},
   "outputs": [
    {
     "name": "stdout",
     "output_type": "stream",
     "text": [
      "Meet Up Districts:{'IV', 'V', 'VI', 'III'}\n",
      "New Meet Up Districts: {'V', 'III'}\n"
     ]
    }
   ],
   "source": [
    "your_districts = ['I', 'IV', 'V', 'I', 'VI', 'IX', 'X', 'II', 'III', 'I']\n",
    "their_districts = ['V', 'IV', 'VI', 'XII', 'VII', 'IV', 'VI', 'VIII', 'III']\n",
    "patrolled_districts = ['I', 'II', 'XII', 'IX', 'XI', 'IV', 'II', 'VI']\n",
    "meet = set()\n",
    "\n",
    "\n",
    "def common_districts(your_districts,their_districts):\n",
    "    yd = set(your_districts)\n",
    "    td = set(their_districts)\n",
    "    meet.update(yd.intersection(td))\n",
    "    return meet\n",
    "    \n",
    "\n",
    "\n",
    "common_districts(your_districts,their_districts)\n",
    "pd =  set(patrolled_districts)\n",
    "npd = meet.difference(pd)\n",
    "print(f\"Meet Up Districts:{meet}\")\n",
    "print(f\"New Meet Up Districts: {npd}\")\n",
    "    "
   ]
  },
  {
   "cell_type": "code",
   "execution_count": 55,
   "id": "ff528266-d4e1-4c03-b2f7-bd99f85fedbd",
   "metadata": {},
   "outputs": [
    {
     "name": "stdout",
     "output_type": "stream",
     "text": [
      "Sorted by Rank:[(5, 'Zeroza'), (4, 'Barzak'), (3, 'Larzon'), (2, 'Donesia'), (1, 'Yggacia')]\n",
      "Sorted by Name:[(4, 'Barzak'), (2, 'Donesia'), (3, 'Larzon'), (1, 'Yggacia'), (5, 'Zeroza')]\n"
     ]
    }
   ],
   "source": [
    "commanders = {(4, \"Barzak\"), (2, \"Donesia\"), (5, \"Zeroza\"), (1, \"Yggacia\"), (3, \"Larzon\")}\n",
    "\n",
    "def converter(m):\n",
    "    t = []\n",
    "    for l in m:\n",
    "        t.append(tuple(l))\n",
    "    return t\n",
    "    \n",
    "\n",
    "def sort_by_rank(c):\n",
    "    for i in range(len(c) - 1):\n",
    "        for j in range(i,len(c)):\n",
    "            if c[i][0] < c[j][0]:\n",
    "                temp = c[i]\n",
    "                c[i] = c[j]\n",
    "                c[j] = temp\n",
    "    return converter(c)\n",
    "    \n",
    "\n",
    "def sort_by_name(n):\n",
    "      for i in range(len(c) - 1):\n",
    "        for j in range(i,len(c)):\n",
    "            if c[i][1] > c[j][1]:\n",
    "                temp = c[i]\n",
    "                c[i] = c[j]\n",
    "                c[j] = temp\n",
    "      return converter(c)\n",
    "   \n",
    "b = list(commanders)\n",
    "t = []\n",
    "for k in b:\n",
    "    t.append(list(k))\n",
    "    \n",
    "sr = sort_by_rank(t)    \n",
    "sn = sort_by_name(t)\n",
    "print(f\"Sorted by Rank:{sr}\")\n",
    "print(f\"Sorted by Name:{sn}\")"
   ]
  },
  {
   "cell_type": "code",
   "execution_count": 69,
   "id": "b0a24edf-a965-4213-8f88-319b675c78f5",
   "metadata": {},
   "outputs": [
    {
     "name": "stdout",
     "output_type": "stream",
     "text": [
      "Danger level of Barzak : 2\n"
     ]
    }
   ],
   "source": [
    "class Commander:\n",
    "    def __init__(self,n,r,w,h,a):\n",
    "        self.name = n\n",
    "        self.rank = r\n",
    "        self.weight = w\n",
    "        self.height = h\n",
    "        self.age = a\n",
    "        self.danger_level = self.calculate_danger()\n",
    "        print(f\"Danger level of {self.name} : {self.danger_level}\")\n",
    "\n",
    "    def calculate_danger(self):\n",
    "        return round((self.weight+self.height)/self.age)\n",
    "        \n",
    "c = Commander(n ='Barzak',r=4,w=40,h=12,a=33)\n"
   ]
  },
  {
   "cell_type": "code",
   "execution_count": 3,
   "id": "6316bd47-ae20-49b7-a5e4-6f3f4bf78508",
   "metadata": {},
   "outputs": [
    {
     "name": "stdout",
     "output_type": "stream",
     "text": [
      "Valid IDs= ['ABC1234', 'TYP9006']\n"
     ]
    }
   ],
   "source": [
    "import re\n",
    "test_ids = [\"ABC1234\", \"sbaz56\", \"Wuy1452\", \"TYP9006\", \"KZED439\"]\n",
    "vi =[]\n",
    "for i in test_ids:\n",
    "    if len(i) ==7 and re.search(r\"\\b[A-Z][A-Z][A-Z]\",i) and re.search(r\"[0-9][0-9][0-9][0-9]\\b\",i):\n",
    "        vi.append(i)\n",
    "print(f\"Valid IDs= {vi}\")"
   ]
  }
 ],
 "metadata": {
  "kernelspec": {
   "display_name": "Python 3 (ipykernel)",
   "language": "python",
   "name": "python3"
  },
  "language_info": {
   "codemirror_mode": {
    "name": "ipython",
    "version": 3
   },
   "file_extension": ".py",
   "mimetype": "text/x-python",
   "name": "python",
   "nbconvert_exporter": "python",
   "pygments_lexer": "ipython3",
   "version": "3.12.2"
  }
 },
 "nbformat": 4,
 "nbformat_minor": 5
}
